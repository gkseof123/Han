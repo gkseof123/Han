import random


class BaseBall:
#인스턴스 변수 선언은 __init__()내부에....
#클래스로부터 생성된 인스턴스들이 공유하는 변수(전역변수, 공유변수)선언 클래스변수 
    player = 0
    outCount = 0
    strike = 0
    ball = 0
    
    @classmethod
    def getStatus(cls):
        cls.player += 1
        print('*******', cls.player, '번째 선수 출격*******')
        while(cls.outCount < 3):
            BaseBall.isStrike()
            if(cls.strike==3):
                cls.outCount+=1
                cls.player+=1
                print('선수교체')
                print('*******',cls.player,'번째 선수 출격*******')
                cls.strike = 0
                cls.ball = 0
            elif(cls.ball == 4):
                print('1루 출격')
                cls.player += 1
                print('******',cls.player,'번째 선수 출격******')
                cls.strike = 0
                cls.ball = 0
        print('쓰리아웃! 공수교체')
    @classmethod
    def isStrike(self,):
        if(random.randint(0,1)==0):
            self.strike+=1
            print('공 던짐=>스트라이크!!')
            print(self.outCount,'아웃,',self.strike,'스트라이크,',self.ball,'볼')
            b=False
        else:
            self.ball+=1
            print('공 던짐=>볼!!')
            print(self.outCount,'아웃,',self.strike,'스트라이크,',self.ball,'볼')
            b=True
        return b


baseball= BaseBall()
baseball.getStatus()


           







        
        
